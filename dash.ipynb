{
 "cells": [
  {
   "attachments": {},
   "cell_type": "markdown",
   "metadata": {},
   "source": [
    "# Initialize"
   ]
  },
  {
   "cell_type": "code",
   "execution_count": 1,
   "metadata": {},
   "outputs": [],
   "source": [
    "from dash import Dash, html, dash_table, dcc, callback, Output, Input\n",
    "import pandas as pd\n",
    "import plotly.express as px\n",
    "import plotly.graph_objects as go\n",
    "import dash_bootstrap_components as dbc\n",
    "\n",
    "# Incorporate data\n",
    "df = pd.read_csv(\"Processed_data\\data.csv\")\n",
    "\n",
    "# Initialize the app\n",
    "app = Dash(__name__,external_stylesheets=[dbc.themes.BOOTSTRAP])\n",
    "\n"
   ]
  },
  {
   "attachments": {},
   "cell_type": "markdown",
   "metadata": {},
   "source": [
    "# Labels and Figures"
   ]
  },
  {
   "cell_type": "code",
   "execution_count": 1,
   "metadata": {},
   "outputs": [
    {
     "ename": "SyntaxError",
     "evalue": "invalid syntax (1478721620.py, line 53)",
     "output_type": "error",
     "traceback": [
      "\u001b[1;36m  Cell \u001b[1;32mIn [1], line 53\u001b[1;36m\u001b[0m\n\u001b[1;33m    \"Existing_AT_pH\" : \"pH\" ,\u001b[0m\n\u001b[1;37m                     ^\u001b[0m\n\u001b[1;31mSyntaxError\u001b[0m\u001b[1;31m:\u001b[0m invalid syntax\n"
     ]
    }
   ],
   "source": [
    "#labels create garne \n",
    "import plotly.express as px\n",
    "\n",
    "labels ={\n",
    "    \"Date\" : \"\" ,\n",
    "    \"Power_from_gas_engine\" : \"Power Generation(MW) \",\n",
    "    \"Daily_NEA\" : \"Daily Power Consumption from NEA (MW) \" ,\n",
    "    \"Total_Power\" : \"Total Power Consumption (MW)\" ,\n",
    "    \"Total_power_per_ML\" : \"Total Power consumption per ML (Kwhr/ML)\" ,\n",
    "    \"Raw_sew_flow\" : \"Raw Sewage Flow(MLD)\" ,\n",
    "    \"Raw_sew_com_pH\" : \" pH\" ,\n",
    "    \"Raw_sew_com_BOD\" : \" BOD (mg/l)\" ,\n",
    "    \"Raw_sew_com_COD\" : \" COD (mg/l)\" ,\n",
    "    \"Raw_sew_com_TSS\" : \" TSS (mg/l)\" ,\n",
    "    \"Raw_sew_com_N\" : \" Ammonical Nitrogen (mg/l)\" ,\n",
    "    \"Raw_sew_com_OG\" : \" Oil and Grease (mg/l)\" ,\n",
    "    \"Raw_sew_pH\" : \" pH\" ,\n",
    "    \"Raw_sew_BOD\" : \" BOD (mg/l)\" ,\n",
    "    \"Raw_sew_COD\" : \" COD (mg/l)\" ,\n",
    "    \"Raw_sew_TSS\" : \" TSS (mg/l)\" ,\n",
    "    \"Raw_sew_TP\" : \" Phosphorus (mg/l)\" ,\n",
    "    \"Raw_sew_TColi\" : \"Total Coliform (mg/l)\" ,\n",
    "    \"Raw_sew_FColi\" : \"Fecal Coliform (mg/l)\" ,\n",
    "    \"Grit_TSS\" : \" Grit TSS (mg/l)\" ,\n",
    "    \"PST_pH\" : \"pH\" ,\n",
    "    \"PST_TSS\" : \"TSS (mg/l)\",\n",
    "    \"PST_BOD\" : \"BOD (mg/l)\" ,\n",
    "    \"PST_COD\" : \"COD (mg/l)\" ,\n",
    "    \"PST_Sludge\" : \"PST Sludge Volume (m3)\" ,\n",
    "    \"SC_pH\" : \"pH \" ,\n",
    "    \"SC_TSS\" : \"TSS (mg/l)\" ,\n",
    "    \"SC_BOD\" : \"BOD (mg/l)\" ,\n",
    "    \"SC_COD\" : \"COD (mg/l)\" ,\n",
    "    \"SC_RAS\" : \"TSS RAS (mg/l)\" ,\n",
    "    \"SST_pH\" : \"pH \" ,\n",
    "    \"SST_TSS\" : \"TSS (mg/l)\" ,\n",
    "    \"SST_BOD\" : \"BOD (mg/l)\" ,\n",
    "    \"SST_COD\" : \"COD (mg/l)\" ,\n",
    "    \"SST_RAS\" : \"TSS RAS (mg/l)\" ,\n",
    "    \"CCT_com_pH\" : \"pH\" ,\n",
    "    \"CCT_com_BOD\" : \"BOD (mg/l)\" ,\n",
    "    \"CCT_com_COD\" : \"COD (mg/l)\" ,\n",
    "    \"CCT_com_TSS\" : \"TSS (mg/l)\" ,\n",
    "    \"CCT_com_OG\" : \"Oil and Grease (mg/l)\" ,\n",
    "    \"CCT_com_N\" : \"Ammonical Nitrogen (mg/l)\" ,\n",
    "    \"CCT_pH\" : \"pH \" ,\n",
    "    \"CCT_BOD\" : \"BOD (mg/l)\" ,\n",
    "    \"CCT_COD\" : \"COD (mg/l)\" ,\n",
    "    \"CCT_TSS\" : \"TSS (mg/l)\" ,\n",
    "    \"CCT_TColi\" : \"Total Coliform (mg/l)\" ,\n",
    "    \"CCT_FColi\" : \"Fecal Coliform (mg/l)\" ,\n",
    "    \"CCT_FRC\" : \" Free Residual Chlroine (mg/l)\"\n",
    "    \"Existing_AT_pH\" : \"pH\" ,\n",
    "    \"Existing_AT_DO\" : \"Dissolved Oxygen (mg/l)\" ,\n",
    "    \"Existing_AT_MLSS\" : \"MLSS (mg/l)\" ,\n",
    "    \"Existing_AT_MLVSS\" : \"MLVSS (mg/l)\" ,\n",
    "    \"Existing_AT_SV30\" : \"SV30\" ,\n",
    "    \"Existing_AT_SVI\" : \"Sludge Volume Index (SVI)\" ,\n",
    "    \"New_AT_pH\" : \"pH\" ,\n",
    "    \"New_AT_DO\" : \"Dissolved Oxygen (mg/l)\" ,\n",
    "    \"New_AT_MLSS\" : \"MLSS (mg/l)\" ,\n",
    "    \"New_AT_MLVSS\" : \"MLVSS (mg/l)\" ,\n",
    "    \"New_AT_SV30\" : \"SV30\" ,\n",
    "    \"New_AT_SVI\" : \"Sludge Volume Index (SVI)\" \n",
    "}\n",
    "\n",
    "\n"
   ]
  },
  {
   "cell_type": "code",
   "execution_count": 9,
   "metadata": {},
   "outputs": [],
   "source": [
    "\n",
    "# themes options\n",
    "# for template in [\"plotly\", \"plotly_white\", \"plotly_dark\", \"ggplot2\", \"seaborn\", \"simple_white\", \"none\"]:\n",
    "\n",
    "theme ='plotly_dark'\n",
    "\n",
    "for plots in [\"Existing_AT_MLSS\",\"Existing_AT_MLVSS\",\"New_AT_MLSS\",\"New_AT_MLVSS\"]:\n",
    "    fig1= px.line(df,y='PST_BOD', x='Date',template=theme, labels=labels)\n",
    "\n",
    "fig2= px.line(df,y='Raw_sew_com_BOD',x='Date',template=theme)\n"
   ]
  },
  {
   "attachments": {},
   "cell_type": "markdown",
   "metadata": {},
   "source": [
    "# App Layout Starts"
   ]
  },
  {
   "cell_type": "code",
   "execution_count": 14,
   "metadata": {},
   "outputs": [],
   "source": [
    "\n",
    "app.layout = html.Div([\n",
    "    html.Div([\n",
    "        dcc.Graph(figure=fig1)],className= \"six columns\"\n",
    "    ),\n",
    "    html.Div([\n",
    "        dcc.Graph(figure=fig2)],className = \"six columns\"\n",
    "    )    \n",
    "])\n"
   ]
  },
  {
   "attachments": {},
   "cell_type": "markdown",
   "metadata": {},
   "source": [
    "## Callbacks"
   ]
  },
  {
   "cell_type": "code",
   "execution_count": 11,
   "metadata": {},
   "outputs": [],
   "source": [
    "# @callback(\n",
    "#     Output(component_id='controls-and-graph', component_property='figure'),\n",
    "#     Input(component_id='controls-and-radio-item', component_property='value')\n",
    "# )\n",
    "\n",
    "# def update_graph(col_chosen):\n",
    "#     fig = px.line(df, x='Date', y=col_chosen)\n",
    "#     return fig\n",
    "\n"
   ]
  },
  {
   "cell_type": "code",
   "execution_count": 12,
   "metadata": {},
   "outputs": [
    {
     "ename": "AssertionError",
     "evalue": "The setup method 'errorhandler' can no longer be called on the application. It has already handled its first request, any changes will not be applied consistently.\nMake sure all imports, decorators, functions, etc. needed to set up the application are done before running it.",
     "output_type": "error",
     "traceback": [
      "\u001b[1;31m---------------------------------------------------------------------------\u001b[0m",
      "\u001b[1;31mAssertionError\u001b[0m                            Traceback (most recent call last)",
      "\u001b[1;32me:\\GWWTP\\Aeration tank design\\DASH WEBSITE\\dash.ipynb Cell 10\u001b[0m in \u001b[0;36m3\n\u001b[0;32m      <a href='vscode-notebook-cell:/e%3A/GWWTP/Aeration%20tank%20design/DASH%20WEBSITE/dash.ipynb#X12sZmlsZQ%3D%3D?line=0'>1</a>\u001b[0m \u001b[39m# Run the app\u001b[39;00m\n\u001b[0;32m      <a href='vscode-notebook-cell:/e%3A/GWWTP/Aeration%20tank%20design/DASH%20WEBSITE/dash.ipynb#X12sZmlsZQ%3D%3D?line=1'>2</a>\u001b[0m \u001b[39mif\u001b[39;00m \u001b[39m__name__\u001b[39m \u001b[39m==\u001b[39m \u001b[39m'\u001b[39m\u001b[39m__main__\u001b[39m\u001b[39m'\u001b[39m:\n\u001b[1;32m----> <a href='vscode-notebook-cell:/e%3A/GWWTP/Aeration%20tank%20design/DASH%20WEBSITE/dash.ipynb#X12sZmlsZQ%3D%3D?line=2'>3</a>\u001b[0m     app\u001b[39m.\u001b[39;49mrun(debug\u001b[39m=\u001b[39;49m\u001b[39mTrue\u001b[39;49;00m)\n",
      "File \u001b[1;32m~\\AppData\\Local\\Packages\\PythonSoftwareFoundation.Python.3.10_qbz5n2kfra8p0\\LocalCache\\local-packages\\Python310\\site-packages\\dash\\dash.py:1927\u001b[0m, in \u001b[0;36mDash.run\u001b[1;34m(self, host, port, proxy, debug, jupyter_mode, jupyter_width, jupyter_height, jupyter_server_url, dev_tools_ui, dev_tools_props_check, dev_tools_serve_dev_bundles, dev_tools_hot_reload, dev_tools_hot_reload_interval, dev_tools_hot_reload_watch_interval, dev_tools_hot_reload_max_retry, dev_tools_silence_routes_logging, dev_tools_prune_errors, **flask_run_options)\u001b[0m\n\u001b[0;32m   1924\u001b[0m \u001b[39mif\u001b[39;00m debug \u001b[39mis\u001b[39;00m \u001b[39mNone\u001b[39;00m:\n\u001b[0;32m   1925\u001b[0m     debug \u001b[39m=\u001b[39m get_combined_config(\u001b[39m\"\u001b[39m\u001b[39mdebug\u001b[39m\u001b[39m\"\u001b[39m, \u001b[39mNone\u001b[39;00m, \u001b[39mFalse\u001b[39;00m)\n\u001b[1;32m-> 1927\u001b[0m debug \u001b[39m=\u001b[39m \u001b[39mself\u001b[39;49m\u001b[39m.\u001b[39;49menable_dev_tools(\n\u001b[0;32m   1928\u001b[0m     debug,\n\u001b[0;32m   1929\u001b[0m     dev_tools_ui,\n\u001b[0;32m   1930\u001b[0m     dev_tools_props_check,\n\u001b[0;32m   1931\u001b[0m     dev_tools_serve_dev_bundles,\n\u001b[0;32m   1932\u001b[0m     dev_tools_hot_reload,\n\u001b[0;32m   1933\u001b[0m     dev_tools_hot_reload_interval,\n\u001b[0;32m   1934\u001b[0m     dev_tools_hot_reload_watch_interval,\n\u001b[0;32m   1935\u001b[0m     dev_tools_hot_reload_max_retry,\n\u001b[0;32m   1936\u001b[0m     dev_tools_silence_routes_logging,\n\u001b[0;32m   1937\u001b[0m     dev_tools_prune_errors,\n\u001b[0;32m   1938\u001b[0m )\n\u001b[0;32m   1940\u001b[0m \u001b[39m# Verify port value\u001b[39;00m\n\u001b[0;32m   1941\u001b[0m \u001b[39mtry\u001b[39;00m:\n",
      "File \u001b[1;32m~\\AppData\\Local\\Packages\\PythonSoftwareFoundation.Python.3.10_qbz5n2kfra8p0\\LocalCache\\local-packages\\Python310\\site-packages\\dash\\dash.py:1696\u001b[0m, in \u001b[0;36mDash.enable_dev_tools\u001b[1;34m(self, debug, dev_tools_ui, dev_tools_props_check, dev_tools_serve_dev_bundles, dev_tools_hot_reload, dev_tools_hot_reload_interval, dev_tools_hot_reload_watch_interval, dev_tools_hot_reload_max_retry, dev_tools_silence_routes_logging, dev_tools_prune_errors)\u001b[0m\n\u001b[0;32m   1693\u001b[0m \u001b[39mif\u001b[39;00m debug:\n\u001b[0;32m   1695\u001b[0m     \u001b[39mif\u001b[39;00m jupyter_dash\u001b[39m.\u001b[39mactive:\n\u001b[1;32m-> 1696\u001b[0m         jupyter_dash\u001b[39m.\u001b[39;49mconfigure_callback_exception_handling(\n\u001b[0;32m   1697\u001b[0m             \u001b[39mself\u001b[39;49m, dev_tools\u001b[39m.\u001b[39;49mprune_errors\n\u001b[0;32m   1698\u001b[0m         )\n\u001b[0;32m   1699\u001b[0m     \u001b[39melif\u001b[39;00m dev_tools\u001b[39m.\u001b[39mprune_errors:\n\u001b[0;32m   1700\u001b[0m         secret \u001b[39m=\u001b[39m gen_salt(\u001b[39m20\u001b[39m)\n",
      "File \u001b[1;32m~\\AppData\\Local\\Packages\\PythonSoftwareFoundation.Python.3.10_qbz5n2kfra8p0\\LocalCache\\local-packages\\Python310\\site-packages\\dash\\_jupyter.py:443\u001b[0m, in \u001b[0;36mJupyterDash.configure_callback_exception_handling\u001b[1;34m(self, app, dev_tools_prune_errors)\u001b[0m\n\u001b[0;32m    440\u001b[0m \u001b[39mdef\u001b[39;00m \u001b[39mconfigure_callback_exception_handling\u001b[39m(\u001b[39mself\u001b[39m, app, dev_tools_prune_errors):\n\u001b[0;32m    441\u001b[0m     \u001b[39m\"\"\"Install traceback handling for callbacks\"\"\"\u001b[39;00m\n\u001b[1;32m--> 443\u001b[0m     \u001b[39m@app\u001b[39m\u001b[39m.\u001b[39;49mserver\u001b[39m.\u001b[39;49merrorhandler(\u001b[39mException\u001b[39;49;00m)\n\u001b[0;32m    444\u001b[0m     \u001b[39mdef\u001b[39;00m \u001b[39m_wrap_errors\u001b[39m(error):\n\u001b[0;32m    445\u001b[0m         \u001b[39m# Compute number of stack frames to skip to get down to callback\u001b[39;00m\n\u001b[0;32m    446\u001b[0m         skip \u001b[39m=\u001b[39m _get_skip(error) \u001b[39mif\u001b[39;00m dev_tools_prune_errors \u001b[39melse\u001b[39;00m \u001b[39m0\u001b[39m\n\u001b[0;32m    448\u001b[0m         \u001b[39m# Customized formatargvalues function we can place function parameters\u001b[39;00m\n\u001b[0;32m    449\u001b[0m         \u001b[39m# on separate lines\u001b[39;00m\n",
      "File \u001b[1;32m~\\AppData\\Local\\Packages\\PythonSoftwareFoundation.Python.3.10_qbz5n2kfra8p0\\LocalCache\\local-packages\\Python310\\site-packages\\flask\\scaffold.py:49\u001b[0m, in \u001b[0;36msetupmethod.<locals>.wrapper_func\u001b[1;34m(self, *args, **kwargs)\u001b[0m\n\u001b[0;32m     48\u001b[0m \u001b[39mdef\u001b[39;00m \u001b[39mwrapper_func\u001b[39m(\u001b[39mself\u001b[39m, \u001b[39m*\u001b[39margs: t\u001b[39m.\u001b[39mAny, \u001b[39m*\u001b[39m\u001b[39m*\u001b[39mkwargs: t\u001b[39m.\u001b[39mAny) \u001b[39m-\u001b[39m\u001b[39m>\u001b[39m t\u001b[39m.\u001b[39mAny:\n\u001b[1;32m---> 49\u001b[0m     \u001b[39mself\u001b[39;49m\u001b[39m.\u001b[39;49m_check_setup_finished(f_name)\n\u001b[0;32m     50\u001b[0m     \u001b[39mreturn\u001b[39;00m f(\u001b[39mself\u001b[39m, \u001b[39m*\u001b[39margs, \u001b[39m*\u001b[39m\u001b[39m*\u001b[39mkwargs)\n",
      "File \u001b[1;32m~\\AppData\\Local\\Packages\\PythonSoftwareFoundation.Python.3.10_qbz5n2kfra8p0\\LocalCache\\local-packages\\Python310\\site-packages\\flask\\app.py:722\u001b[0m, in \u001b[0;36mFlask._check_setup_finished\u001b[1;34m(self, f_name)\u001b[0m\n\u001b[0;32m    720\u001b[0m \u001b[39mdef\u001b[39;00m \u001b[39m_check_setup_finished\u001b[39m(\u001b[39mself\u001b[39m, f_name: \u001b[39mstr\u001b[39m) \u001b[39m-\u001b[39m\u001b[39m>\u001b[39m \u001b[39mNone\u001b[39;00m:\n\u001b[0;32m    721\u001b[0m     \u001b[39mif\u001b[39;00m \u001b[39mself\u001b[39m\u001b[39m.\u001b[39m_got_first_request:\n\u001b[1;32m--> 722\u001b[0m         \u001b[39mraise\u001b[39;00m \u001b[39mAssertionError\u001b[39;00m(\n\u001b[0;32m    723\u001b[0m             \u001b[39mf\u001b[39m\u001b[39m\"\u001b[39m\u001b[39mThe setup method \u001b[39m\u001b[39m'\u001b[39m\u001b[39m{\u001b[39;00mf_name\u001b[39m}\u001b[39;00m\u001b[39m'\u001b[39m\u001b[39m can no longer be called\u001b[39m\u001b[39m\"\u001b[39m\n\u001b[0;32m    724\u001b[0m             \u001b[39m\"\u001b[39m\u001b[39m on the application. It has already handled its first\u001b[39m\u001b[39m\"\u001b[39m\n\u001b[0;32m    725\u001b[0m             \u001b[39m\"\u001b[39m\u001b[39m request, any changes will not be applied\u001b[39m\u001b[39m\"\u001b[39m\n\u001b[0;32m    726\u001b[0m             \u001b[39m\"\u001b[39m\u001b[39m consistently.\u001b[39m\u001b[39m\\n\u001b[39;00m\u001b[39m\"\u001b[39m\n\u001b[0;32m    727\u001b[0m             \u001b[39m\"\u001b[39m\u001b[39mMake sure all imports, decorators, functions, etc.\u001b[39m\u001b[39m\"\u001b[39m\n\u001b[0;32m    728\u001b[0m             \u001b[39m\"\u001b[39m\u001b[39m needed to set up the application are done before\u001b[39m\u001b[39m\"\u001b[39m\n\u001b[0;32m    729\u001b[0m             \u001b[39m\"\u001b[39m\u001b[39m running it.\u001b[39m\u001b[39m\"\u001b[39m\n\u001b[0;32m    730\u001b[0m         )\n",
      "\u001b[1;31mAssertionError\u001b[0m: The setup method 'errorhandler' can no longer be called on the application. It has already handled its first request, any changes will not be applied consistently.\nMake sure all imports, decorators, functions, etc. needed to set up the application are done before running it."
     ]
    }
   ],
   "source": [
    "# Run the app\n",
    "\n",
    "if __name__ == '__main__':\n",
    "    app.run(debug=True)\n"
   ]
  },
  {
   "cell_type": "code",
   "execution_count": 1,
   "metadata": {},
   "outputs": [
    {
     "ename": "NameError",
     "evalue": "name '__file__' is not defined",
     "output_type": "error",
     "traceback": [
      "\u001b[1;31m---------------------------------------------------------------------------\u001b[0m",
      "\u001b[1;31mNameError\u001b[0m                                 Traceback (most recent call last)",
      "\u001b[1;32me:\\GWWTP\\Aeration tank design\\DASH WEBSITE\\dash.ipynb Cell 11\u001b[0m in \u001b[0;36m2\n\u001b[0;32m      <a href='vscode-notebook-cell:/e%3A/GWWTP/Aeration%20tank%20design/DASH%20WEBSITE/dash.ipynb#X13sZmlsZQ%3D%3D?line=0'>1</a>\u001b[0m \u001b[39mimport\u001b[39;00m \u001b[39mpathlib\u001b[39;00m\n\u001b[1;32m----> <a href='vscode-notebook-cell:/e%3A/GWWTP/Aeration%20tank%20design/DASH%20WEBSITE/dash.ipynb#X13sZmlsZQ%3D%3D?line=1'>2</a>\u001b[0m PATH \u001b[39m=\u001b[39m pathlib\u001b[39m.\u001b[39mPath(\u001b[39m__file__\u001b[39;49m)\u001b[39m.\u001b[39mparent\n",
      "\u001b[1;31mNameError\u001b[0m: name '__file__' is not defined"
     ]
    }
   ],
   "source": [
    "import pathlib\n",
    "PATH = pathlib.Path(__file__).parent"
   ]
  },
  {
   "cell_type": "code",
   "execution_count": 3,
   "metadata": {},
   "outputs": [
    {
     "name": "stdout",
     "output_type": "stream",
     "text": [
      "<class 'pandas.core.frame.DataFrame'>\n",
      "RangeIndex: 31 entries, 0 to 30\n",
      "Data columns (total 60 columns):\n",
      " #   Column                 Non-Null Count  Dtype  \n",
      "---  ------                 --------------  -----  \n",
      " 0   Date                   31 non-null     object \n",
      " 1   Power_from_gas_engine  31 non-null     float64\n",
      " 2   Daily_NEA              31 non-null     float64\n",
      " 3   Total_Power            0 non-null      float64\n",
      " 4   Total_power_per_ML     0 non-null      float64\n",
      " 5   Raw_sew_flow           31 non-null     float64\n",
      " 6   Raw_sew_com_pH         31 non-null     float64\n",
      " 7   Raw_sew_com_BOD        28 non-null     float64\n",
      " 8   Raw_sew_com_COD        31 non-null     float64\n",
      " 9   Raw_sew_com_TSS        31 non-null     float64\n",
      " 10  Raw_sew_com_N          31 non-null     float64\n",
      " 11  Raw_sew_com_OG         31 non-null     float64\n",
      " 12  Raw_sew_pH             31 non-null     float64\n",
      " 13  Raw_sew_BOD            29 non-null     float64\n",
      " 14  Raw_sew_COD            31 non-null     float64\n",
      " 15  Raw_sew_TSS            31 non-null     int64  \n",
      " 16  Raw_sew_TP             29 non-null     float64\n",
      " 17  Raw_sew_TColi          31 non-null     float64\n",
      " 18  Raw_sew_FColi          20 non-null     float64\n",
      " 19  Grit_TSS               21 non-null     float64\n",
      " 20  PST_pH                 31 non-null     float64\n",
      " 21  PST_TSS                31 non-null     float64\n",
      " 22  PST_BOD                29 non-null     float64\n",
      " 23  PST_COD                31 non-null     float64\n",
      " 24  PST_Sludge             31 non-null     float64\n",
      " 25  SC_pH                  31 non-null     float64\n",
      " 26  SC_TSS                 31 non-null     float64\n",
      " 27  SC_BOD                 29 non-null     float64\n",
      " 28  SC_COD                 31 non-null     float64\n",
      " 29  SC_RAS                 31 non-null     float64\n",
      " 30  SST_pH                 30 non-null     float64\n",
      " 31  SST_TSS                30 non-null     float64\n",
      " 32  SST_BOD                28 non-null     float64\n",
      " 33  SST_CODRaw_sew         30 non-null     float64\n",
      " 34  SST_RAS                31 non-null     float64\n",
      " 35  CCT_com_pH             21 non-null     float64\n",
      " 36  CCT_com_BOD            19 non-null     float64\n",
      " 37  CCT_com_COD            21 non-null     float64\n",
      " 38  CCT_com_TSS            21 non-null     float64\n",
      " 39  CCT_com_OG             21 non-null     float64\n",
      " 40  CCT_com_N              21 non-null     float64\n",
      " 41  CCT_pH                 22 non-null     float64\n",
      " 42  CCT_BOD                20 non-null     float64\n",
      " 43  CCT_COD                22 non-null     float64\n",
      " 44  CCT_TSS                22 non-null     float64\n",
      " 45  CCT_TP                 22 non-null     float64\n",
      " 46  CCT_TColi              20 non-null     float64\n",
      " 47  CCT_FColi              20 non-null     float64\n",
      " 48  Existing_AT_pH         31 non-null     float64\n",
      " 49  Existing_AT_DO         31 non-null     float64\n",
      " 50  Existing_AT_MLSS       31 non-null     float64\n",
      " 51  Existing_AT_MLVSS      28 non-null     float64\n",
      " 52  Existing_AT_SV30       31 non-null     float64\n",
      " 53  Existing_AT_SVI        31 non-null     float64\n",
      " 54  New_AT_pH              31 non-null     float64\n",
      " 55  New_AT_DO              31 non-null     float64\n",
      " 56  New_AT_MLSS            31 non-null     int64  \n",
      " 57  New_AT_MLVSS           28 non-null     float64\n",
      " 58  New_AT_SV30            31 non-null     float64\n",
      " 59  New_AT_SVI             31 non-null     float64\n",
      "dtypes: float64(57), int64(2), object(1)\n",
      "memory usage: 14.7+ KB\n"
     ]
    }
   ],
   "source": [
    "df.info()"
   ]
  },
  {
   "cell_type": "code",
   "execution_count": 5,
   "metadata": {},
   "outputs": [
    {
     "name": "stderr",
     "output_type": "stream",
     "text": [
      "C:\\Users\\ashis\\AppData\\Local\\Temp\\ipykernel_5344\\1523113677.py:2: FutureWarning:\n",
      "\n",
      "Series.dt.weekofyear and Series.dt.week have been deprecated. Please use Series.dt.isocalendar().week instead.\n",
      "\n"
     ]
    },
    {
     "name": "stdout",
     "output_type": "stream",
     "text": [
      "verey goood\n"
     ]
    }
   ],
   "source": [
    "df[\"Date\"]=pd.to_datetime(df[\"Date\"])\n",
    "df['Week']=df[\"Date\"].dt.week\n",
    "effluent_graphs=[\"CCT_pH\",\"CCT_BOD\",\"CCT_COD\",\"CCT_TSS\",\"CCT_TColi\",\"CCT_FColi\",\"CCT_com_OG\",\"CCT_com_N\",\"CCT_FRC\"]\n",
    "figures={}\n",
    "for para in effluent_graphs:\n",
    "    figname = \"fig\" + str(para)\n",
    "    figname = fig1= px.line(df,y=para, x='Week', line_shape=\"spline\",height=300,title=\"Hello\")\n",
    "    \n",
    "    if para ==\"CCT_pH\":\n",
    "          figname.add_hrect(y0=6.5, y1=8, line_width=0, fillcolor=\"green\", opacity=0.2)\n",
    "    elif para == \"CCT_BOD\" or para == \"CCT_TSS\" or para == \"CCT_com_OG\":\n",
    "          figname.add_hrect(y0=0, y1=10, line_width=0, fillcolor=\"green\", opacity=0.2)\n",
    "          #figname.add_hline(y=10)\n",
    "    elif para == \"CCT_COD\":\n",
    "          #figname.add_hline(y=250)\n",
    "          figname.add_hrect(y0=0, y1=250, line_width=0, fillcolor=\"green\", opacity=0.2)\n",
    "    elif para == \"CCT_TColi\":\n",
    "          print(\"verey goood\")\n",
    "          #figname.add_hrect(y0=0, y1=10, line_width=0, fillcolor=\"green\", opacity=0.2)\n",
    "    elif para == \"CCT_TColi\":\n",
    "            print(\"verey goood\")\n",
    "            #figname.add_hrect(y0=0, y1=10, line_width=0, fillcolor=\"green\", opacity=0.2)\n",
    "    elif para == \"CCT_com_N\":\n",
    "          #figname.add_hline(y=50)\n",
    "          figname.add_hrect(y0=0, y1=50, line_width=0, fillcolor=\"green\", opacity=0.2)\n",
    "    elif para == \"CCT_FRC\":\n",
    "          #figname.add_hline(y=1)\n",
    "          figname.add_hrect(y0=0, y1=1, line_width=0, fillcolor=\"green\", opacity=0.2)\n",
    "    figname.update_layout(\n",
    "          margin=dict(l=0, r=0, t=20, b=0), xaxis_title=None,title_x=0.5)\n",
    "\n",
    "    figures.update({str(para):figname})\n",
    "\n",
    "\n",
    "# fig2 = px.bar(df, x=\"x\", y=\"y\")\n",
    "# fig.add_trace(fig2.data[0])"
   ]
  },
  {
   "cell_type": "code",
   "execution_count": 19,
   "metadata": {},
   "outputs": [
    {
     "data": {
      "text/plain": [
       "dict_keys(['CCT_pH', 'CCT_BOD', 'CCT_COD', 'CCT_TSS', 'CCT_TColi', 'CCT_FColi', 'CCT_com_OG', 'CCT_com_N', 'CCT_FRC'])"
      ]
     },
     "execution_count": 19,
     "metadata": {},
     "output_type": "execute_result"
    }
   ],
   "source": [
    "figures.keys()"
   ]
  },
  {
   "cell_type": "code",
   "execution_count": 10,
   "metadata": {},
   "outputs": [
    {
     "data": {
      "application/vnd.plotly.v1+json": {
       "config": {
        "plotlyServerURL": "https://plot.ly"
       },
       "data": [
        {
         "hovertemplate": "Week=%{x}<br>CCT_BOD=%{y}<extra></extra>",
         "legendgroup": "",
         "marker": {
          "color": "#636efa",
          "symbol": "circle"
         },
         "mode": "markers",
         "name": "",
         "orientation": "v",
         "showlegend": false,
         "type": "scatter",
         "x": [
          52,
          1,
          1,
          1,
          1,
          1,
          1,
          1,
          2,
          2,
          2,
          2,
          2,
          2,
          2,
          3,
          3,
          3,
          3,
          3,
          3,
          3,
          4,
          4,
          4,
          4,
          4,
          4,
          4,
          5,
          5,
          5,
          5,
          5,
          5,
          5,
          6,
          6,
          6,
          6,
          6,
          6,
          6,
          7,
          7,
          7,
          7,
          7,
          7,
          7,
          8,
          8,
          8,
          8,
          8,
          8,
          8,
          9,
          9,
          9,
          9,
          9,
          9,
          9,
          10,
          10,
          10,
          10,
          10,
          10,
          10,
          11,
          11,
          11,
          11,
          11,
          11,
          11,
          12,
          12,
          12,
          12,
          12,
          12,
          12,
          13,
          13,
          13,
          13,
          13,
          13,
          13,
          14,
          14,
          14,
          14,
          14,
          14,
          14,
          15,
          15,
          15,
          15,
          15,
          15,
          15,
          16,
          16,
          16,
          16,
          16,
          16,
          16,
          17,
          17,
          17,
          17,
          17,
          17,
          17,
          18,
          18,
          18,
          18,
          18,
          18,
          18,
          19,
          19,
          19,
          19,
          19,
          19,
          19,
          20,
          20,
          20,
          20,
          20,
          20,
          20,
          21,
          21,
          21,
          21,
          21,
          21,
          21,
          22,
          22,
          22,
          22,
          22,
          22,
          22,
          23,
          23,
          23,
          23,
          23,
          23,
          23,
          24,
          24,
          24,
          24,
          24,
          24,
          24,
          25,
          25,
          25,
          25,
          25,
          25,
          25,
          26,
          26,
          26,
          26,
          26
         ],
         "xaxis": "x",
         "y": [
          8.3,
          9.1,
          7.4,
          9.6,
          6.5,
          9.2,
          6.4,
          6.3,
          7.1,
          7.1,
          8.3,
          8.4,
          8.1,
          7.1,
          4.9,
          6.7,
          6,
          5.2,
          6.6,
          8,
          7.3,
          7,
          6.1,
          7.6,
          4.4,
          7.3,
          11.1,
          8.2,
          8,
          7.3,
          null,
          8.1,
          7.9,
          7.2,
          6.9,
          7,
          6.3,
          6.4,
          7.4,
          7.4,
          7.9,
          7.7,
          7.6,
          8.3,
          7.9,
          6.9,
          7.2,
          6.3,
          null,
          6.4,
          6.1,
          7.3,
          null,
          8.1,
          7.2,
          7.9,
          7.1,
          8.1,
          8.2,
          8.3,
          8.2,
          7.9,
          6.5,
          8.9,
          null,
          9.7,
          7.9,
          8,
          7.4,
          9.1,
          8.7,
          7,
          9.4,
          9.8,
          9.6,
          7.7,
          9.1,
          6.6,
          7.4,
          9.8,
          8.1,
          7.4,
          10.6,
          9.1,
          null,
          12.7,
          11.7,
          11.7,
          null,
          10.9,
          12.9,
          13.4,
          9.1,
          21.6,
          null,
          14.8,
          20.3,
          17.2,
          15.2,
          17.6,
          13.1,
          15.4,
          12.4,
          null,
          18.2,
          15.2,
          10.4,
          16.1,
          11.7,
          10.3,
          10.1,
          9.9,
          12.2,
          null,
          null,
          null,
          null,
          null,
          null,
          null,
          null,
          null,
          null,
          null,
          null,
          null,
          null,
          null,
          20.4,
          11.7,
          10.7,
          9.2,
          13.4,
          12.8,
          12,
          8.1,
          10.6,
          13,
          13.9,
          15.7,
          15.8,
          11,
          14,
          16.9,
          17.7,
          20.3,
          19.5,
          null,
          16.3,
          null,
          null,
          13.5,
          11.6,
          14.9,
          16.9,
          12.7,
          9.4,
          13.2,
          15.7,
          16,
          11.4,
          13.1,
          11.9,
          10.8,
          9.2,
          8,
          8.5,
          9.9,
          10.4,
          7.7,
          7.3,
          6.4,
          null,
          null,
          null,
          null,
          null,
          null,
          null,
          null,
          null
         ],
         "yaxis": "y"
        }
       ],
       "layout": {
        "height": 300,
        "legend": {
         "tracegroupgap": 0
        },
        "template": {
         "data": {
          "bar": [
           {
            "error_x": {
             "color": "#2a3f5f"
            },
            "error_y": {
             "color": "#2a3f5f"
            },
            "marker": {
             "line": {
              "color": "#E5ECF6",
              "width": 0.5
             },
             "pattern": {
              "fillmode": "overlay",
              "size": 10,
              "solidity": 0.2
             }
            },
            "type": "bar"
           }
          ],
          "barpolar": [
           {
            "marker": {
             "line": {
              "color": "#E5ECF6",
              "width": 0.5
             },
             "pattern": {
              "fillmode": "overlay",
              "size": 10,
              "solidity": 0.2
             }
            },
            "type": "barpolar"
           }
          ],
          "carpet": [
           {
            "aaxis": {
             "endlinecolor": "#2a3f5f",
             "gridcolor": "white",
             "linecolor": "white",
             "minorgridcolor": "white",
             "startlinecolor": "#2a3f5f"
            },
            "baxis": {
             "endlinecolor": "#2a3f5f",
             "gridcolor": "white",
             "linecolor": "white",
             "minorgridcolor": "white",
             "startlinecolor": "#2a3f5f"
            },
            "type": "carpet"
           }
          ],
          "choropleth": [
           {
            "colorbar": {
             "outlinewidth": 0,
             "ticks": ""
            },
            "type": "choropleth"
           }
          ],
          "contour": [
           {
            "colorbar": {
             "outlinewidth": 0,
             "ticks": ""
            },
            "colorscale": [
             [
              0,
              "#0d0887"
             ],
             [
              0.1111111111111111,
              "#46039f"
             ],
             [
              0.2222222222222222,
              "#7201a8"
             ],
             [
              0.3333333333333333,
              "#9c179e"
             ],
             [
              0.4444444444444444,
              "#bd3786"
             ],
             [
              0.5555555555555556,
              "#d8576b"
             ],
             [
              0.6666666666666666,
              "#ed7953"
             ],
             [
              0.7777777777777778,
              "#fb9f3a"
             ],
             [
              0.8888888888888888,
              "#fdca26"
             ],
             [
              1,
              "#f0f921"
             ]
            ],
            "type": "contour"
           }
          ],
          "contourcarpet": [
           {
            "colorbar": {
             "outlinewidth": 0,
             "ticks": ""
            },
            "type": "contourcarpet"
           }
          ],
          "heatmap": [
           {
            "colorbar": {
             "outlinewidth": 0,
             "ticks": ""
            },
            "colorscale": [
             [
              0,
              "#0d0887"
             ],
             [
              0.1111111111111111,
              "#46039f"
             ],
             [
              0.2222222222222222,
              "#7201a8"
             ],
             [
              0.3333333333333333,
              "#9c179e"
             ],
             [
              0.4444444444444444,
              "#bd3786"
             ],
             [
              0.5555555555555556,
              "#d8576b"
             ],
             [
              0.6666666666666666,
              "#ed7953"
             ],
             [
              0.7777777777777778,
              "#fb9f3a"
             ],
             [
              0.8888888888888888,
              "#fdca26"
             ],
             [
              1,
              "#f0f921"
             ]
            ],
            "type": "heatmap"
           }
          ],
          "heatmapgl": [
           {
            "colorbar": {
             "outlinewidth": 0,
             "ticks": ""
            },
            "colorscale": [
             [
              0,
              "#0d0887"
             ],
             [
              0.1111111111111111,
              "#46039f"
             ],
             [
              0.2222222222222222,
              "#7201a8"
             ],
             [
              0.3333333333333333,
              "#9c179e"
             ],
             [
              0.4444444444444444,
              "#bd3786"
             ],
             [
              0.5555555555555556,
              "#d8576b"
             ],
             [
              0.6666666666666666,
              "#ed7953"
             ],
             [
              0.7777777777777778,
              "#fb9f3a"
             ],
             [
              0.8888888888888888,
              "#fdca26"
             ],
             [
              1,
              "#f0f921"
             ]
            ],
            "type": "heatmapgl"
           }
          ],
          "histogram": [
           {
            "marker": {
             "pattern": {
              "fillmode": "overlay",
              "size": 10,
              "solidity": 0.2
             }
            },
            "type": "histogram"
           }
          ],
          "histogram2d": [
           {
            "colorbar": {
             "outlinewidth": 0,
             "ticks": ""
            },
            "colorscale": [
             [
              0,
              "#0d0887"
             ],
             [
              0.1111111111111111,
              "#46039f"
             ],
             [
              0.2222222222222222,
              "#7201a8"
             ],
             [
              0.3333333333333333,
              "#9c179e"
             ],
             [
              0.4444444444444444,
              "#bd3786"
             ],
             [
              0.5555555555555556,
              "#d8576b"
             ],
             [
              0.6666666666666666,
              "#ed7953"
             ],
             [
              0.7777777777777778,
              "#fb9f3a"
             ],
             [
              0.8888888888888888,
              "#fdca26"
             ],
             [
              1,
              "#f0f921"
             ]
            ],
            "type": "histogram2d"
           }
          ],
          "histogram2dcontour": [
           {
            "colorbar": {
             "outlinewidth": 0,
             "ticks": ""
            },
            "colorscale": [
             [
              0,
              "#0d0887"
             ],
             [
              0.1111111111111111,
              "#46039f"
             ],
             [
              0.2222222222222222,
              "#7201a8"
             ],
             [
              0.3333333333333333,
              "#9c179e"
             ],
             [
              0.4444444444444444,
              "#bd3786"
             ],
             [
              0.5555555555555556,
              "#d8576b"
             ],
             [
              0.6666666666666666,
              "#ed7953"
             ],
             [
              0.7777777777777778,
              "#fb9f3a"
             ],
             [
              0.8888888888888888,
              "#fdca26"
             ],
             [
              1,
              "#f0f921"
             ]
            ],
            "type": "histogram2dcontour"
           }
          ],
          "mesh3d": [
           {
            "colorbar": {
             "outlinewidth": 0,
             "ticks": ""
            },
            "type": "mesh3d"
           }
          ],
          "parcoords": [
           {
            "line": {
             "colorbar": {
              "outlinewidth": 0,
              "ticks": ""
             }
            },
            "type": "parcoords"
           }
          ],
          "pie": [
           {
            "automargin": true,
            "type": "pie"
           }
          ],
          "scatter": [
           {
            "fillpattern": {
             "fillmode": "overlay",
             "size": 10,
             "solidity": 0.2
            },
            "type": "scatter"
           }
          ],
          "scatter3d": [
           {
            "line": {
             "colorbar": {
              "outlinewidth": 0,
              "ticks": ""
             }
            },
            "marker": {
             "colorbar": {
              "outlinewidth": 0,
              "ticks": ""
             }
            },
            "type": "scatter3d"
           }
          ],
          "scattercarpet": [
           {
            "marker": {
             "colorbar": {
              "outlinewidth": 0,
              "ticks": ""
             }
            },
            "type": "scattercarpet"
           }
          ],
          "scattergeo": [
           {
            "marker": {
             "colorbar": {
              "outlinewidth": 0,
              "ticks": ""
             }
            },
            "type": "scattergeo"
           }
          ],
          "scattergl": [
           {
            "marker": {
             "colorbar": {
              "outlinewidth": 0,
              "ticks": ""
             }
            },
            "type": "scattergl"
           }
          ],
          "scattermapbox": [
           {
            "marker": {
             "colorbar": {
              "outlinewidth": 0,
              "ticks": ""
             }
            },
            "type": "scattermapbox"
           }
          ],
          "scatterpolar": [
           {
            "marker": {
             "colorbar": {
              "outlinewidth": 0,
              "ticks": ""
             }
            },
            "type": "scatterpolar"
           }
          ],
          "scatterpolargl": [
           {
            "marker": {
             "colorbar": {
              "outlinewidth": 0,
              "ticks": ""
             }
            },
            "type": "scatterpolargl"
           }
          ],
          "scatterternary": [
           {
            "marker": {
             "colorbar": {
              "outlinewidth": 0,
              "ticks": ""
             }
            },
            "type": "scatterternary"
           }
          ],
          "surface": [
           {
            "colorbar": {
             "outlinewidth": 0,
             "ticks": ""
            },
            "colorscale": [
             [
              0,
              "#0d0887"
             ],
             [
              0.1111111111111111,
              "#46039f"
             ],
             [
              0.2222222222222222,
              "#7201a8"
             ],
             [
              0.3333333333333333,
              "#9c179e"
             ],
             [
              0.4444444444444444,
              "#bd3786"
             ],
             [
              0.5555555555555556,
              "#d8576b"
             ],
             [
              0.6666666666666666,
              "#ed7953"
             ],
             [
              0.7777777777777778,
              "#fb9f3a"
             ],
             [
              0.8888888888888888,
              "#fdca26"
             ],
             [
              1,
              "#f0f921"
             ]
            ],
            "type": "surface"
           }
          ],
          "table": [
           {
            "cells": {
             "fill": {
              "color": "#EBF0F8"
             },
             "line": {
              "color": "white"
             }
            },
            "header": {
             "fill": {
              "color": "#C8D4E3"
             },
             "line": {
              "color": "white"
             }
            },
            "type": "table"
           }
          ]
         },
         "layout": {
          "annotationdefaults": {
           "arrowcolor": "#2a3f5f",
           "arrowhead": 0,
           "arrowwidth": 1
          },
          "autotypenumbers": "strict",
          "coloraxis": {
           "colorbar": {
            "outlinewidth": 0,
            "ticks": ""
           }
          },
          "colorscale": {
           "diverging": [
            [
             0,
             "#8e0152"
            ],
            [
             0.1,
             "#c51b7d"
            ],
            [
             0.2,
             "#de77ae"
            ],
            [
             0.3,
             "#f1b6da"
            ],
            [
             0.4,
             "#fde0ef"
            ],
            [
             0.5,
             "#f7f7f7"
            ],
            [
             0.6,
             "#e6f5d0"
            ],
            [
             0.7,
             "#b8e186"
            ],
            [
             0.8,
             "#7fbc41"
            ],
            [
             0.9,
             "#4d9221"
            ],
            [
             1,
             "#276419"
            ]
           ],
           "sequential": [
            [
             0,
             "#0d0887"
            ],
            [
             0.1111111111111111,
             "#46039f"
            ],
            [
             0.2222222222222222,
             "#7201a8"
            ],
            [
             0.3333333333333333,
             "#9c179e"
            ],
            [
             0.4444444444444444,
             "#bd3786"
            ],
            [
             0.5555555555555556,
             "#d8576b"
            ],
            [
             0.6666666666666666,
             "#ed7953"
            ],
            [
             0.7777777777777778,
             "#fb9f3a"
            ],
            [
             0.8888888888888888,
             "#fdca26"
            ],
            [
             1,
             "#f0f921"
            ]
           ],
           "sequentialminus": [
            [
             0,
             "#0d0887"
            ],
            [
             0.1111111111111111,
             "#46039f"
            ],
            [
             0.2222222222222222,
             "#7201a8"
            ],
            [
             0.3333333333333333,
             "#9c179e"
            ],
            [
             0.4444444444444444,
             "#bd3786"
            ],
            [
             0.5555555555555556,
             "#d8576b"
            ],
            [
             0.6666666666666666,
             "#ed7953"
            ],
            [
             0.7777777777777778,
             "#fb9f3a"
            ],
            [
             0.8888888888888888,
             "#fdca26"
            ],
            [
             1,
             "#f0f921"
            ]
           ]
          },
          "colorway": [
           "#636efa",
           "#EF553B",
           "#00cc96",
           "#ab63fa",
           "#FFA15A",
           "#19d3f3",
           "#FF6692",
           "#B6E880",
           "#FF97FF",
           "#FECB52"
          ],
          "font": {
           "color": "#2a3f5f"
          },
          "geo": {
           "bgcolor": "white",
           "lakecolor": "white",
           "landcolor": "#E5ECF6",
           "showlakes": true,
           "showland": true,
           "subunitcolor": "white"
          },
          "hoverlabel": {
           "align": "left"
          },
          "hovermode": "closest",
          "mapbox": {
           "style": "light"
          },
          "paper_bgcolor": "white",
          "plot_bgcolor": "#E5ECF6",
          "polar": {
           "angularaxis": {
            "gridcolor": "white",
            "linecolor": "white",
            "ticks": ""
           },
           "bgcolor": "#E5ECF6",
           "radialaxis": {
            "gridcolor": "white",
            "linecolor": "white",
            "ticks": ""
           }
          },
          "scene": {
           "xaxis": {
            "backgroundcolor": "#E5ECF6",
            "gridcolor": "white",
            "gridwidth": 2,
            "linecolor": "white",
            "showbackground": true,
            "ticks": "",
            "zerolinecolor": "white"
           },
           "yaxis": {
            "backgroundcolor": "#E5ECF6",
            "gridcolor": "white",
            "gridwidth": 2,
            "linecolor": "white",
            "showbackground": true,
            "ticks": "",
            "zerolinecolor": "white"
           },
           "zaxis": {
            "backgroundcolor": "#E5ECF6",
            "gridcolor": "white",
            "gridwidth": 2,
            "linecolor": "white",
            "showbackground": true,
            "ticks": "",
            "zerolinecolor": "white"
           }
          },
          "shapedefaults": {
           "line": {
            "color": "#2a3f5f"
           }
          },
          "ternary": {
           "aaxis": {
            "gridcolor": "white",
            "linecolor": "white",
            "ticks": ""
           },
           "baxis": {
            "gridcolor": "white",
            "linecolor": "white",
            "ticks": ""
           },
           "bgcolor": "#E5ECF6",
           "caxis": {
            "gridcolor": "white",
            "linecolor": "white",
            "ticks": ""
           }
          },
          "title": {
           "x": 0.05
          },
          "xaxis": {
           "automargin": true,
           "gridcolor": "white",
           "linecolor": "white",
           "ticks": "",
           "title": {
            "standoff": 15
           },
           "zerolinecolor": "white",
           "zerolinewidth": 2
          },
          "yaxis": {
           "automargin": true,
           "gridcolor": "white",
           "linecolor": "white",
           "ticks": "",
           "title": {
            "standoff": 15
           },
           "zerolinecolor": "white",
           "zerolinewidth": 2
          }
         }
        },
        "title": {
         "text": "Hello"
        },
        "xaxis": {
         "anchor": "y",
         "domain": [
          0,
          1
         ],
         "title": {
          "text": "Week"
         }
        },
        "yaxis": {
         "anchor": "x",
         "domain": [
          0,
          1
         ],
         "title": {
          "text": "CCT_BOD"
         }
        }
       }
      }
     },
     "metadata": {},
     "output_type": "display_data"
    }
   ],
   "source": [
    "px.scatter(df,y=\"CCT_BOD\", x='Week', height=300,title=\"Hello\")"
   ]
  },
  {
   "cell_type": "code",
   "execution_count": 2,
   "metadata": {},
   "outputs": [
    {
     "data": {
      "text/html": [
       "<div>\n",
       "<style scoped>\n",
       "    .dataframe tbody tr th:only-of-type {\n",
       "        vertical-align: middle;\n",
       "    }\n",
       "\n",
       "    .dataframe tbody tr th {\n",
       "        vertical-align: top;\n",
       "    }\n",
       "\n",
       "    .dataframe thead th {\n",
       "        text-align: right;\n",
       "    }\n",
       "</style>\n",
       "<table border=\"1\" class=\"dataframe\">\n",
       "  <thead>\n",
       "    <tr style=\"text-align: right;\">\n",
       "      <th></th>\n",
       "      <th>Date</th>\n",
       "      <th>Power_from_gas_engine</th>\n",
       "      <th>Daily_NEA</th>\n",
       "      <th>Total_Power</th>\n",
       "      <th>Total_power_per_ML</th>\n",
       "      <th>Raw_sew_flow</th>\n",
       "      <th>Raw_sew_com_pH</th>\n",
       "      <th>Raw_sew_com_BOD</th>\n",
       "      <th>Raw_sew_com_COD</th>\n",
       "      <th>Raw_sew_com_TSS</th>\n",
       "      <th>...</th>\n",
       "      <th>Existing_AT_MLSS</th>\n",
       "      <th>Existing_AT_MLVSS</th>\n",
       "      <th>Existing_AT_SV30</th>\n",
       "      <th>Existing_AT_SVI</th>\n",
       "      <th>New_AT_pH</th>\n",
       "      <th>New_AT_DO</th>\n",
       "      <th>New_AT_MLSS</th>\n",
       "      <th>New_AT_MLVSS</th>\n",
       "      <th>New_AT_SV30</th>\n",
       "      <th>New_AT_SVI</th>\n",
       "    </tr>\n",
       "  </thead>\n",
       "  <tbody>\n",
       "    <tr>\n",
       "      <th>0</th>\n",
       "      <td>2023-01-01</td>\n",
       "      <td>1.3</td>\n",
       "      <td>10.93</td>\n",
       "      <td>12.23</td>\n",
       "      <td>630.737494</td>\n",
       "      <td>19.390</td>\n",
       "      <td>7.01</td>\n",
       "      <td>419.5</td>\n",
       "      <td>679.0</td>\n",
       "      <td>470.0</td>\n",
       "      <td>...</td>\n",
       "      <td>5455.0</td>\n",
       "      <td>3395.0</td>\n",
       "      <td>630.0</td>\n",
       "      <td>114.971014</td>\n",
       "      <td>6.720</td>\n",
       "      <td>1.215</td>\n",
       "      <td>6430.0</td>\n",
       "      <td>3875.0</td>\n",
       "      <td>795.0</td>\n",
       "      <td>124.156928</td>\n",
       "    </tr>\n",
       "    <tr>\n",
       "      <th>1</th>\n",
       "      <td>2023-01-02</td>\n",
       "      <td>1.1</td>\n",
       "      <td>12.34</td>\n",
       "      <td>13.44</td>\n",
       "      <td>678.308267</td>\n",
       "      <td>19.814</td>\n",
       "      <td>7.14</td>\n",
       "      <td>494.0</td>\n",
       "      <td>581.0</td>\n",
       "      <td>520.0</td>\n",
       "      <td>...</td>\n",
       "      <td>6145.0</td>\n",
       "      <td>3845.0</td>\n",
       "      <td>690.0</td>\n",
       "      <td>111.946945</td>\n",
       "      <td>7.460</td>\n",
       "      <td>0.825</td>\n",
       "      <td>7015.0</td>\n",
       "      <td>4205.0</td>\n",
       "      <td>825.0</td>\n",
       "      <td>117.980379</td>\n",
       "    </tr>\n",
       "    <tr>\n",
       "      <th>2</th>\n",
       "      <td>2023-01-03</td>\n",
       "      <td>1.3</td>\n",
       "      <td>11.19</td>\n",
       "      <td>12.49</td>\n",
       "      <td>723.428902</td>\n",
       "      <td>17.265</td>\n",
       "      <td>7.00</td>\n",
       "      <td>434.1</td>\n",
       "      <td>679.0</td>\n",
       "      <td>510.0</td>\n",
       "      <td>...</td>\n",
       "      <td>6105.0</td>\n",
       "      <td>3480.0</td>\n",
       "      <td>635.0</td>\n",
       "      <td>102.516050</td>\n",
       "      <td>6.695</td>\n",
       "      <td>0.990</td>\n",
       "      <td>7320.0</td>\n",
       "      <td>4215.0</td>\n",
       "      <td>835.0</td>\n",
       "      <td>114.499218</td>\n",
       "    </tr>\n",
       "    <tr>\n",
       "      <th>3</th>\n",
       "      <td>2023-01-04</td>\n",
       "      <td>1.2</td>\n",
       "      <td>10.61</td>\n",
       "      <td>11.81</td>\n",
       "      <td>696.755162</td>\n",
       "      <td>16.950</td>\n",
       "      <td>7.01</td>\n",
       "      <td>359.0</td>\n",
       "      <td>861.0</td>\n",
       "      <td>370.0</td>\n",
       "      <td>...</td>\n",
       "      <td>5880.0</td>\n",
       "      <td>3705.0</td>\n",
       "      <td>705.0</td>\n",
       "      <td>120.905425</td>\n",
       "      <td>6.865</td>\n",
       "      <td>0.850</td>\n",
       "      <td>7325.0</td>\n",
       "      <td>4965.0</td>\n",
       "      <td>870.0</td>\n",
       "      <td>118.852000</td>\n",
       "    </tr>\n",
       "    <tr>\n",
       "      <th>4</th>\n",
       "      <td>2023-01-05</td>\n",
       "      <td>1.3</td>\n",
       "      <td>11.12</td>\n",
       "      <td>12.42</td>\n",
       "      <td>711.951849</td>\n",
       "      <td>17.445</td>\n",
       "      <td>6.89</td>\n",
       "      <td>373.7</td>\n",
       "      <td>780.0</td>\n",
       "      <td>575.0</td>\n",
       "      <td>...</td>\n",
       "      <td>6055.0</td>\n",
       "      <td>3895.0</td>\n",
       "      <td>875.0</td>\n",
       "      <td>144.093322</td>\n",
       "      <td>6.950</td>\n",
       "      <td>0.570</td>\n",
       "      <td>7545.0</td>\n",
       "      <td>4915.0</td>\n",
       "      <td>870.0</td>\n",
       "      <td>115.339809</td>\n",
       "    </tr>\n",
       "    <tr>\n",
       "      <th>...</th>\n",
       "      <td>...</td>\n",
       "      <td>...</td>\n",
       "      <td>...</td>\n",
       "      <td>...</td>\n",
       "      <td>...</td>\n",
       "      <td>...</td>\n",
       "      <td>...</td>\n",
       "      <td>...</td>\n",
       "      <td>...</td>\n",
       "      <td>...</td>\n",
       "      <td>...</td>\n",
       "      <td>...</td>\n",
       "      <td>...</td>\n",
       "      <td>...</td>\n",
       "      <td>...</td>\n",
       "      <td>...</td>\n",
       "      <td>...</td>\n",
       "      <td>...</td>\n",
       "      <td>...</td>\n",
       "      <td>...</td>\n",
       "      <td>...</td>\n",
       "    </tr>\n",
       "    <tr>\n",
       "      <th>176</th>\n",
       "      <td>2023-06-26</td>\n",
       "      <td>0.0</td>\n",
       "      <td>17.17</td>\n",
       "      <td>17.17</td>\n",
       "      <td>850.968925</td>\n",
       "      <td>20.177</td>\n",
       "      <td>NaN</td>\n",
       "      <td>NaN</td>\n",
       "      <td>NaN</td>\n",
       "      <td>NaN</td>\n",
       "      <td>...</td>\n",
       "      <td>7435.0</td>\n",
       "      <td>3855.0</td>\n",
       "      <td>880.0</td>\n",
       "      <td>118.776797</td>\n",
       "      <td>6.765</td>\n",
       "      <td>0.335</td>\n",
       "      <td>6815.0</td>\n",
       "      <td>3345.0</td>\n",
       "      <td>730.0</td>\n",
       "      <td>107.239766</td>\n",
       "    </tr>\n",
       "    <tr>\n",
       "      <th>177</th>\n",
       "      <td>2023-06-27</td>\n",
       "      <td>0.0</td>\n",
       "      <td>17.13</td>\n",
       "      <td>17.13</td>\n",
       "      <td>851.645620</td>\n",
       "      <td>20.114</td>\n",
       "      <td>NaN</td>\n",
       "      <td>NaN</td>\n",
       "      <td>NaN</td>\n",
       "      <td>NaN</td>\n",
       "      <td>...</td>\n",
       "      <td>NaN</td>\n",
       "      <td>NaN</td>\n",
       "      <td>NaN</td>\n",
       "      <td>NaN</td>\n",
       "      <td>NaN</td>\n",
       "      <td>NaN</td>\n",
       "      <td>NaN</td>\n",
       "      <td>NaN</td>\n",
       "      <td>NaN</td>\n",
       "      <td>NaN</td>\n",
       "    </tr>\n",
       "    <tr>\n",
       "      <th>178</th>\n",
       "      <td>2023-06-28</td>\n",
       "      <td>0.0</td>\n",
       "      <td>15.13</td>\n",
       "      <td>15.13</td>\n",
       "      <td>912.875588</td>\n",
       "      <td>16.574</td>\n",
       "      <td>NaN</td>\n",
       "      <td>NaN</td>\n",
       "      <td>NaN</td>\n",
       "      <td>NaN</td>\n",
       "      <td>...</td>\n",
       "      <td>NaN</td>\n",
       "      <td>NaN</td>\n",
       "      <td>NaN</td>\n",
       "      <td>NaN</td>\n",
       "      <td>NaN</td>\n",
       "      <td>NaN</td>\n",
       "      <td>NaN</td>\n",
       "      <td>NaN</td>\n",
       "      <td>NaN</td>\n",
       "      <td>NaN</td>\n",
       "    </tr>\n",
       "    <tr>\n",
       "      <th>179</th>\n",
       "      <td>2023-06-29</td>\n",
       "      <td>0.0</td>\n",
       "      <td>16.11</td>\n",
       "      <td>16.11</td>\n",
       "      <td>871.517447</td>\n",
       "      <td>18.485</td>\n",
       "      <td>NaN</td>\n",
       "      <td>NaN</td>\n",
       "      <td>NaN</td>\n",
       "      <td>NaN</td>\n",
       "      <td>...</td>\n",
       "      <td>NaN</td>\n",
       "      <td>NaN</td>\n",
       "      <td>NaN</td>\n",
       "      <td>NaN</td>\n",
       "      <td>NaN</td>\n",
       "      <td>NaN</td>\n",
       "      <td>NaN</td>\n",
       "      <td>NaN</td>\n",
       "      <td>NaN</td>\n",
       "      <td>NaN</td>\n",
       "    </tr>\n",
       "    <tr>\n",
       "      <th>180</th>\n",
       "      <td>2023-06-30</td>\n",
       "      <td>NaN</td>\n",
       "      <td>NaN</td>\n",
       "      <td>0.00</td>\n",
       "      <td>NaN</td>\n",
       "      <td>NaN</td>\n",
       "      <td>NaN</td>\n",
       "      <td>NaN</td>\n",
       "      <td>NaN</td>\n",
       "      <td>NaN</td>\n",
       "      <td>...</td>\n",
       "      <td>NaN</td>\n",
       "      <td>NaN</td>\n",
       "      <td>NaN</td>\n",
       "      <td>NaN</td>\n",
       "      <td>NaN</td>\n",
       "      <td>NaN</td>\n",
       "      <td>NaN</td>\n",
       "      <td>NaN</td>\n",
       "      <td>NaN</td>\n",
       "      <td>NaN</td>\n",
       "    </tr>\n",
       "  </tbody>\n",
       "</table>\n",
       "<p>181 rows × 60 columns</p>\n",
       "</div>"
      ],
      "text/plain": [
       "           Date  Power_from_gas_engine  Daily_NEA  Total_Power  \\\n",
       "0    2023-01-01                    1.3      10.93        12.23   \n",
       "1    2023-01-02                    1.1      12.34        13.44   \n",
       "2    2023-01-03                    1.3      11.19        12.49   \n",
       "3    2023-01-04                    1.2      10.61        11.81   \n",
       "4    2023-01-05                    1.3      11.12        12.42   \n",
       "..          ...                    ...        ...          ...   \n",
       "176  2023-06-26                    0.0      17.17        17.17   \n",
       "177  2023-06-27                    0.0      17.13        17.13   \n",
       "178  2023-06-28                    0.0      15.13        15.13   \n",
       "179  2023-06-29                    0.0      16.11        16.11   \n",
       "180  2023-06-30                    NaN        NaN         0.00   \n",
       "\n",
       "     Total_power_per_ML  Raw_sew_flow  Raw_sew_com_pH  Raw_sew_com_BOD  \\\n",
       "0            630.737494        19.390            7.01            419.5   \n",
       "1            678.308267        19.814            7.14            494.0   \n",
       "2            723.428902        17.265            7.00            434.1   \n",
       "3            696.755162        16.950            7.01            359.0   \n",
       "4            711.951849        17.445            6.89            373.7   \n",
       "..                  ...           ...             ...              ...   \n",
       "176          850.968925        20.177             NaN              NaN   \n",
       "177          851.645620        20.114             NaN              NaN   \n",
       "178          912.875588        16.574             NaN              NaN   \n",
       "179          871.517447        18.485             NaN              NaN   \n",
       "180                 NaN           NaN             NaN              NaN   \n",
       "\n",
       "     Raw_sew_com_COD  Raw_sew_com_TSS  ...  Existing_AT_MLSS  \\\n",
       "0              679.0            470.0  ...            5455.0   \n",
       "1              581.0            520.0  ...            6145.0   \n",
       "2              679.0            510.0  ...            6105.0   \n",
       "3              861.0            370.0  ...            5880.0   \n",
       "4              780.0            575.0  ...            6055.0   \n",
       "..               ...              ...  ...               ...   \n",
       "176              NaN              NaN  ...            7435.0   \n",
       "177              NaN              NaN  ...               NaN   \n",
       "178              NaN              NaN  ...               NaN   \n",
       "179              NaN              NaN  ...               NaN   \n",
       "180              NaN              NaN  ...               NaN   \n",
       "\n",
       "     Existing_AT_MLVSS  Existing_AT_SV30  Existing_AT_SVI  New_AT_pH  \\\n",
       "0               3395.0             630.0       114.971014      6.720   \n",
       "1               3845.0             690.0       111.946945      7.460   \n",
       "2               3480.0             635.0       102.516050      6.695   \n",
       "3               3705.0             705.0       120.905425      6.865   \n",
       "4               3895.0             875.0       144.093322      6.950   \n",
       "..                 ...               ...              ...        ...   \n",
       "176             3855.0             880.0       118.776797      6.765   \n",
       "177                NaN               NaN              NaN        NaN   \n",
       "178                NaN               NaN              NaN        NaN   \n",
       "179                NaN               NaN              NaN        NaN   \n",
       "180                NaN               NaN              NaN        NaN   \n",
       "\n",
       "     New_AT_DO  New_AT_MLSS  New_AT_MLVSS  New_AT_SV30  New_AT_SVI  \n",
       "0        1.215       6430.0        3875.0        795.0  124.156928  \n",
       "1        0.825       7015.0        4205.0        825.0  117.980379  \n",
       "2        0.990       7320.0        4215.0        835.0  114.499218  \n",
       "3        0.850       7325.0        4965.0        870.0  118.852000  \n",
       "4        0.570       7545.0        4915.0        870.0  115.339809  \n",
       "..         ...          ...           ...          ...         ...  \n",
       "176      0.335       6815.0        3345.0        730.0  107.239766  \n",
       "177        NaN          NaN           NaN          NaN         NaN  \n",
       "178        NaN          NaN           NaN          NaN         NaN  \n",
       "179        NaN          NaN           NaN          NaN         NaN  \n",
       "180        NaN          NaN           NaN          NaN         NaN  \n",
       "\n",
       "[181 rows x 60 columns]"
      ]
     },
     "execution_count": 2,
     "metadata": {},
     "output_type": "execute_result"
    }
   ],
   "source": [
    "df"
   ]
  },
  {
   "cell_type": "code",
   "execution_count": 3,
   "metadata": {},
   "outputs": [
    {
     "data": {
      "text/plain": [
       "18.077394444444444"
      ]
     },
     "execution_count": 3,
     "metadata": {},
     "output_type": "execute_result"
    }
   ],
   "source": [
    "df[\"Raw_sew_flow\"].mean()"
   ]
  },
  {
   "cell_type": "code",
   "execution_count": null,
   "metadata": {},
   "outputs": [],
   "source": []
  }
 ],
 "metadata": {
  "kernelspec": {
   "display_name": "Python 3",
   "language": "python",
   "name": "python3"
  },
  "language_info": {
   "codemirror_mode": {
    "name": "ipython",
    "version": 3
   },
   "file_extension": ".py",
   "mimetype": "text/x-python",
   "name": "python",
   "nbconvert_exporter": "python",
   "pygments_lexer": "ipython3",
   "version": "3.10.11"
  },
  "orig_nbformat": 4
 },
 "nbformat": 4,
 "nbformat_minor": 2
}
